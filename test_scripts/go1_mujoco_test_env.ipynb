{
 "cells": [
  {
   "cell_type": "markdown",
   "metadata": {},
   "source": [
    "A more complete notebook can be found [here](https://colab.research.google.com/github/google-deepmind/mujoco/blob/main/python/tutorial.ipynb)"
   ]
  },
  {
   "cell_type": "code",
   "execution_count": 1,
   "metadata": {},
   "outputs": [],
   "source": [
    "import mujoco\n",
    "import mujoco_viewer\n",
    "\n",
    "# scene.xml includes the robot model and a simple environment\n",
    "model = mujoco.MjModel.from_xml_path(\"../unitree_go1/scene_torque.xml\")\n",
    "\n",
    "# Contains the state of the model (time: .time, pos: .qpos, vel: .qvel) \n",
    "data = mujoco.MjData(model)"
   ]
  },
  {
   "cell_type": "code",
   "execution_count": 2,
   "metadata": {},
   "outputs": [
    {
     "name": "stdout",
     "output_type": "stream",
     "text": [
      "model.geom: \"Invalid name ''. Valid names: ['FL', 'FR', 'RL', 'RR', 'floor']\"\n",
      "data.geom: \"Invalid name ''. Valid names: ['FL', 'FR', 'RL', 'RR', 'floor']\"\n",
      "data.body: \"Invalid name ''. Valid names: ['FL_calf', 'FL_hip', 'FL_thigh', 'FR_calf', 'FR_hip', 'FR_thigh', 'RL_calf', 'RL_hip', 'RL_thigh', 'RR_calf', 'RR_hip', 'RR_thigh', 'trunk', 'world']\"\n"
     ]
    }
   ],
   "source": [
    "# Print out the name of the body accessors\n",
    "try:\n",
    "    model.geom()\n",
    "except KeyError as e:\n",
    "    print(f\"model.geom: {e}\")\n",
    "    \n",
    "try:\n",
    "    data.geom()\n",
    "except KeyError as e:\n",
    "    print(f\"data.geom: {e}\")\n",
    "    \n",
    "try:\n",
    "    data.body()\n",
    "except KeyError as e:\n",
    "    print(f\"data.body: {e}\")"
   ]
  },
  {
   "cell_type": "code",
   "execution_count": 3,
   "metadata": {},
   "outputs": [
    {
     "data": {
      "text/plain": [
       "<_MjModelGeomViews\n",
       "  bodyid: array([7])\n",
       "  conaffinity: array([1])\n",
       "  condim: array([6])\n",
       "  contype: array([1])\n",
       "  dataid: array([-1])\n",
       "  friction: array([0.8 , 0.02, 0.01])\n",
       "  gap: array([0.])\n",
       "  group: array([3])\n",
       "  id: 31\n",
       "  margin: array([0.001])\n",
       "  matid: array([-1])\n",
       "  name: 'FL'\n",
       "  pos: array([ 0.   ,  0.   , -0.213])\n",
       "  priority: array([1])\n",
       "  quat: array([1., 0., 0., 0.])\n",
       "  rbound: array([0.023])\n",
       "  rgba: array([0.5, 0.5, 0.5, 1. ], dtype=float32)\n",
       "  sameframe: array([0], dtype=uint8)\n",
       "  size: array([0.023, 0.   , 0.   ])\n",
       "  solimp: array([0.015, 1.   , 0.031, 0.5  , 2.   ])\n",
       "  solmix: array([1.])\n",
       "  solref: array([0.02, 1.  ])\n",
       "  type: array([2])\n",
       "  user: array([], dtype=float64)\n",
       ">"
      ]
     },
     "execution_count": 3,
     "metadata": {},
     "output_type": "execute_result"
    }
   ],
   "source": [
    "model.geom(\"FL\")"
   ]
  },
  {
   "cell_type": "code",
   "execution_count": 4,
   "metadata": {},
   "outputs": [
    {
     "name": "stdout",
     "output_type": "stream",
     "text": [
      "Simulated time: 0.0 sec\n",
      "Default timestep: 0.002 sec\n",
      "Degrees of freedom: model.nv=18\n",
      "len(data.qpos)=19 data.qpos=array([0.   , 0.   , 0.445, 1.   , 0.   , 0.   , 0.   , 0.   , 0.   ,\n",
      "       0.   , 0.   , 0.   , 0.   , 0.   , 0.   , 0.   , 0.   , 0.   ,\n",
      "       0.   ])\n",
      "len(data.qvel)=18 data.qvel=array([0., 0., 0., 0., 0., 0., 0., 0., 0., 0., 0., 0., 0., 0., 0., 0., 0.,\n",
      "       0.])\n"
     ]
    }
   ],
   "source": [
    "print(f\"Simulated time: {data.time} sec\")\n",
    "print(f\"Default timestep: {model.opt.timestep} sec\")\n",
    "print(f\"Degrees of freedom: {model.nv=}\")\n",
    "\n",
    "# Position has 1 extra dimension since orientation is represented with\n",
    "# quaternions (4-values) while angular velocity has 3 values.\n",
    "print(f\"{len(data.qpos)=} {data.qpos=}\")\n",
    "print(f\"{len(data.qvel)=} {data.qvel=}\")"
   ]
  },
  {
   "cell_type": "code",
   "execution_count": 12,
   "metadata": {},
   "outputs": [
    {
     "name": "stdout",
     "output_type": "stream",
     "text": [
      "len(data.ctrl)=12 data.ctrl=array([ 0. ,  0.9, -1.8,  0. ,  0.9, -1.8,  0. ,  0.9, -1.8,  0. ,  0.9,\n",
      "       -1.8])\n"
     ]
    },
    {
     "ename": "AttributeError",
     "evalue": "'mujoco._structs.MjData' object has no attribute 'ctrlrange'",
     "output_type": "error",
     "traceback": [
      "\u001b[1;31m---------------------------------------------------------------------------\u001b[0m",
      "\u001b[1;31mAttributeError\u001b[0m                            Traceback (most recent call last)",
      "Cell \u001b[1;32mIn[12], line 37\u001b[0m\n\u001b[0;32m     20\u001b[0m     \u001b[38;5;66;03m# 6 arrays, each wi\u001b[39;00m\n\u001b[0;32m     21\u001b[0m     \u001b[38;5;66;03m# th 14 values\u001b[39;00m\n\u001b[0;32m     22\u001b[0m     \u001b[38;5;66;03m# [4][10]: rightside, [7][13]: leftside\u001b[39;00m\n\u001b[1;32m   (...)\u001b[0m\n\u001b[0;32m     29\u001b[0m     \u001b[38;5;66;03m# sites in MJCF models: https://mujoco.readthedocs.io/en/stable/XMLreference.html#body-site\u001b[39;00m\n\u001b[0;32m     30\u001b[0m     \u001b[38;5;66;03m# 6 in the Go1 model xml file\u001b[39;00m\n\u001b[0;32m     31\u001b[0m     feet_site \u001b[38;5;241m=\u001b[39m [\n\u001b[0;32m     32\u001b[0m         \u001b[38;5;124m'\u001b[39m\u001b[38;5;124mFR\u001b[39m\u001b[38;5;124m'\u001b[39m,\n\u001b[0;32m     33\u001b[0m         \u001b[38;5;124m'\u001b[39m\u001b[38;5;124mFL\u001b[39m\u001b[38;5;124m'\u001b[39m,\n\u001b[0;32m     34\u001b[0m         \u001b[38;5;124m'\u001b[39m\u001b[38;5;124mRR\u001b[39m\u001b[38;5;124m'\u001b[39m,\n\u001b[0;32m     35\u001b[0m         \u001b[38;5;124m'\u001b[39m\u001b[38;5;124mRL\u001b[39m\u001b[38;5;124m'\u001b[39m,\n\u001b[0;32m     36\u001b[0m     ]\n\u001b[1;32m---> 37\u001b[0m     \u001b[38;5;28mprint\u001b[39m(\u001b[38;5;124mf\u001b[39m\u001b[38;5;124m\"\u001b[39m\u001b[38;5;132;01m{\u001b[39;00mdata\u001b[38;5;241m.\u001b[39mctrlrange\u001b[38;5;132;01m=}\u001b[39;00m\u001b[38;5;124m\"\u001b[39m)    \n\u001b[0;32m     38\u001b[0m     feet_site_name_to_id \u001b[38;5;241m=\u001b[39m {\n\u001b[0;32m     39\u001b[0m         f: mujoco\u001b[38;5;241m.\u001b[39mmj_name2id(model, mujoco\u001b[38;5;241m.\u001b[39mmjtObj\u001b[38;5;241m.\u001b[39mmjOBJ_SITE\u001b[38;5;241m.\u001b[39mvalue, f)\n\u001b[0;32m     40\u001b[0m         \u001b[38;5;28;01mfor\u001b[39;00m f \u001b[38;5;129;01min\u001b[39;00m feet_site\n\u001b[0;32m     41\u001b[0m     }\n\u001b[0;32m     42\u001b[0m     \u001b[38;5;66;03m# print(f\"{feet_site_id=}\")\u001b[39;00m\n\u001b[0;32m     43\u001b[0m     \u001b[38;5;66;03m# print(f\"z heights {data.site_xpos[2:, 2]=}\")\u001b[39;00m\n\u001b[0;32m     44\u001b[0m     \u001b[38;5;66;03m# print(f\"{data.site_xpos[feet_site_name_to_id['RR']]=}\")\u001b[39;00m\n\u001b[0;32m     45\u001b[0m     \u001b[38;5;66;03m# print(f\"{data.xpos=}\")\u001b[39;00m\n\u001b[0;32m     46\u001b[0m \u001b[38;5;28;01melse\u001b[39;00m:\n",
      "\u001b[1;31mAttributeError\u001b[0m: 'mujoco._structs.MjData' object has no attribute 'ctrlrange'"
     ]
    }
   ],
   "source": [
    "import numpy as np\n",
    "import time\n",
    "# Setup viewer\n",
    "viewer = mujoco_viewer.MujocoViewer(model, data)\n",
    "\n",
    "# Reset the simulation\n",
    "mujoco.mj_resetDataKeyframe(model, data, 0)\n",
    "\n",
    "# data.qpos[5] = np.deg2rad(15)\n",
    "# print(f\"{data.site_xpos=}\")\n",
    "print(f\"{len(data.ctrl)=} {data.ctrl=}\")\n",
    "data.ctrl[0] = 1\n",
    "for _ in range(1000):\n",
    "    if viewer.is_alive:\n",
    "        mujoco.mj_step(model, data)\n",
    "        mujoco.mj_forward(model, data)\n",
    "        mujoco.mj_rnePostConstraint(model, data)\n",
    "        viewer.render()\n",
    "        time.sleep(0.01)\n",
    "        # 6 arrays, each wi\n",
    "        # th 14 values\n",
    "        # [4][10]: rightside, [7][13]: leftside\n",
    "        # [7][4]: front\n",
    "        # 4:fromright\n",
    "        # 7:frontleft\n",
    "        # 10:backright\n",
    "        # 13:backleft\n",
    "        # print(f\"{len(data.cfrc_ext)=} {data.cfrc_ext[0][0].shape=} {data.cfrc_ext[4]=}\")\n",
    "        # sites in MJCF models: https://mujoco.readthedocs.io/en/stable/XMLreference.html#body-site\n",
    "        # 6 in the Go1 model xml file\n",
    "        feet_site = [\n",
    "            'FR',\n",
    "            'FL',\n",
    "            'RR',\n",
    "            'RL',\n",
    "        ]\n",
    "        feet_site_name_to_id = {\n",
    "            f: mujoco.mj_name2id(model, mujoco.mjtObj.mjOBJ_SITE.value, f)\n",
    "            for f in feet_site\n",
    "        }\n",
    "        # print(f\"{feet_site_id=}\")\n",
    "        # print(f\"z heights {data.site_xpos[2:, 2]=}\")\n",
    "        # print(f\"{data.site_xpos[feet_site_name_to_id['RR']]=}\")\n",
    "        # print(f\"{data.xpos=}\")\n",
    "    else:\n",
    "        break\n",
    "\n",
    "viewer.close()"
   ]
  }
 ],
 "metadata": {
  "kernelspec": {
   "display_name": ".venv",
   "language": "python",
   "name": "python3"
  },
  "language_info": {
   "codemirror_mode": {
    "name": "ipython",
    "version": 3
   },
   "file_extension": ".py",
   "mimetype": "text/x-python",
   "name": "python",
   "nbconvert_exporter": "python",
   "pygments_lexer": "ipython3",
   "version": "3.8.10"
  }
 },
 "nbformat": 4,
 "nbformat_minor": 2
}
